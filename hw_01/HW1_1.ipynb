{
  "cells": [
    {
      "cell_type": "markdown",
      "metadata": {
        "id": "7EdbVSmE87En"
      },
      "source": [
        "# HW1.1: Dictionary-based Tokenization\n"
      ]
    },
    {
      "cell_type": "markdown",
      "metadata": {
        "id": "pJJLm1Ub87Et"
      },
      "source": [
        "In this exercise, you are to implement a dictionary-based word segmentation algorithm. There are two Python functions that you need to complete:\n",
        "<br>\n",
        "* maximal_matching\n",
        "* backtrack\n",
        "</br>\n",
        "\n",
        "Also, you have to find how to use word_tokenize() in PythaiNLP along with customer_dict by yourselves."
      ]
    },
    {
      "cell_type": "code",
      "execution_count": 30,
      "metadata": {
        "colab": {
          "base_uri": "https://localhost:8080/",
          "height": 0
        },
        "id": "yXxPBOcNLXfm",
        "outputId": "a1779f6d-bd4b-40ae-c1d6-9fada9a90d57"
      },
      "outputs": [
        {
          "name": "stdout",
          "output_type": "stream",
          "text": [
            "Defaulting to user installation because normal site-packages is not writeable\n",
            "Requirement already satisfied: pythainlp in c:\\users\\bbb\\appdata\\roaming\\python\\python312\\site-packages (5.0.5)\n",
            "Requirement already satisfied: requests>=2.22.0 in c:\\users\\bbb\\appdata\\roaming\\python\\python312\\site-packages (from pythainlp) (2.32.3)\n",
            "Requirement already satisfied: tzdata in c:\\users\\bbb\\appdata\\roaming\\python\\python312\\site-packages (from pythainlp) (2024.1)\n",
            "Requirement already satisfied: charset-normalizer<4,>=2 in c:\\users\\bbb\\appdata\\roaming\\python\\python312\\site-packages (from requests>=2.22.0->pythainlp) (3.3.2)\n",
            "Requirement already satisfied: idna<4,>=2.5 in c:\\users\\bbb\\appdata\\roaming\\python\\python312\\site-packages (from requests>=2.22.0->pythainlp) (3.7)\n",
            "Requirement already satisfied: urllib3<3,>=1.21.1 in c:\\users\\bbb\\appdata\\roaming\\python\\python312\\site-packages (from requests>=2.22.0->pythainlp) (2.2.2)\n",
            "Requirement already satisfied: certifi>=2017.4.17 in c:\\users\\bbb\\appdata\\roaming\\python\\python312\\site-packages (from requests>=2.22.0->pythainlp) (2024.7.4)\n",
            "Defaulting to user installation because normal site-packages is not writeable\n",
            "Requirement already satisfied: marisa_trie in c:\\users\\bbb\\appdata\\roaming\\python\\python312\\site-packages (1.2.1)\n",
            "Requirement already satisfied: setuptools in c:\\users\\bbb\\appdata\\roaming\\python\\python312\\site-packages (from marisa_trie) (72.2.0)\n"
          ]
        }
      ],
      "source": [
        "!pip install pythainlp\n",
        "!pip install marisa_trie\n",
        "from pythainlp.tokenize import word_tokenize\n",
        "from pythainlp.corpus import get_corpus\n",
        "from marisa_trie import Trie"
      ]
    },
    {
      "cell_type": "markdown",
      "metadata": {
        "id": "VLGgO8PrLSz6"
      },
      "source": [
        "## Part 1) Maximal Matching from PythaiNLP"
      ]
    },
    {
      "cell_type": "markdown",
      "metadata": {
        "id": "xzs0R06q87Et"
      },
      "source": [
        "### Create a toy dictionary to test the algorithm\n",
        "\n",
        "This is based on the example shown in the lecture.\n",
        "You will tokenize the following text string: \"ไปหามเหสี!\"\n",
        "The toy dictionary provided in this exercise includes all the charaters, syllables, and words that appear that the text string."
      ]
    },
    {
      "cell_type": "code",
      "execution_count": 31,
      "metadata": {
        "id": "pq3W4p3z87Ev"
      },
      "outputs": [],
      "source": [
        "thai_vocab = [\"ไ\",\"ป\",\"ห\",\"า\",\"ม\",\"เ\",\"ห\",\"ส\",\"ี\",\"ไป\",\"หา\",\"หาม\",\"เห\",\"สี\",\"มเหสี\",\"!\"]\n",
        "input_text = \"ไปหามเหสี!\""
      ]
    },
    {
      "cell_type": "markdown",
      "metadata": {
        "id": "LrZrzQoXLeUX"
      },
      "source": [
        "### Example Dictionary\n",
        "\n",
        "Write the `word_tokenize` function of PyThaiNLP with a custom dictionary above and using:\n",
        "1. Longest matching algorithm `longest`\n",
        "2. Maximal-matching algorithm `newmm`\n",
        "\n",
        "Study `word_tokenize()` from PythaiNLP in the link below. Note: `custom_dict` will accept Trie structures as `Trie(iterable)`.\n",
        "\n",
        "https://pythainlp.org/docs/5.0/api/tokenize.html#pythainlp.tokenize.word_tokenize"
      ]
    },
    {
      "cell_type": "code",
      "execution_count": 32,
      "metadata": {
        "colab": {
          "base_uri": "https://localhost:8080/",
          "height": 0
        },
        "id": "IhCPz25GIbJv",
        "outputId": "489e140d-82ce-437e-8120-7662ee0c3cea"
      },
      "outputs": [
        {
          "name": "stdout",
          "output_type": "stream",
          "text": [
            "['ไป', 'หาม', 'เห', 'สี', '!']\n",
            "['ไป', 'หา', 'มเหสี', '!']\n"
          ]
        }
      ],
      "source": [
        "####FILL CODE HERE####\n",
        "print(word_tokenize(input_text,engine=\"longest\",custom_dict=Trie(thai_vocab)))\n",
        "\n",
        "print(word_tokenize(input_text,engine=\"newmm\",custom_dict=Trie(thai_vocab)))\n",
        "######################"
      ]
    },
    {
      "cell_type": "markdown",
      "metadata": {
        "id": "DF5Pme7CK3YF"
      },
      "source": [
        "## Part 2) Maximal Matching from Scratch"
      ]
    },
    {
      "cell_type": "markdown",
      "metadata": {
        "id": "ZornooGF87Ew"
      },
      "source": [
        "### Maximal matching\n",
        "Complete the maximal matching function below with dynamic programming to tokenize the input text and output the 2D numerical array shown in class."
      ]
    },
    {
      "cell_type": "code",
      "execution_count": 33,
      "metadata": {
        "id": "MoJh1qBM_pG0"
      },
      "outputs": [],
      "source": [
        "def myMin(d,i):\n",
        "    min_value = 1e9\n",
        "    row = 0\n",
        "    for k in range(0,i):\n",
        "        if(min_value>d[k][i-1]):\n",
        "            min_value=d[k][i-1]\n",
        "            row=k\n",
        "    return min_value,row"
      ]
    },
    {
      "cell_type": "code",
      "execution_count": 34,
      "metadata": {
        "id": "Ao4d2E3387Ew"
      },
      "outputs": [],
      "source": [
        "from math import inf #infinity\n",
        "def maximal_matching(c):\n",
        "    #Initialize an empty 2D list\n",
        "    d  =[[None]*len(c) for _ in range(len(c))]\n",
        "\n",
        "    ####FILL CODE HERE####\n",
        "    for i in range(len(d)):\n",
        "        for j in range(i,len(d)):\n",
        "            if(i==0 and c[i:j+1] in thai_vocab):\n",
        "                d[i][j]=1\n",
        "            elif(c[i:j+1] in thai_vocab):\n",
        "                d[i][j]=1+myMin(d,i)[0]\n",
        "            else:\n",
        "                d[i][j]=inf\n",
        "    ######################\n",
        "    return d"
      ]
    },
    {
      "cell_type": "code",
      "execution_count": 35,
      "metadata": {
        "colab": {
          "base_uri": "https://localhost:8080/",
          "height": 0
        },
        "id": "XEbBIK6l_pG1",
        "outputId": "a9369eb4-7055-4382-fcdc-ed9dbc9da971"
      },
      "outputs": [
        {
          "name": "stdout",
          "output_type": "stream",
          "text": [
            "ไปหามเหสี!\n",
            "[1, 1, inf, inf, inf, inf, inf, inf, inf, inf]\n",
            "[None, 2, inf, inf, inf, inf, inf, inf, inf, inf]\n",
            "[None, None, 2, 2, 2, inf, inf, inf, inf, inf]\n",
            "[None, None, None, 3, inf, inf, inf, inf, inf, inf]\n",
            "[None, None, None, None, 3, inf, inf, inf, 3, inf]\n",
            "[None, None, None, None, None, 3, 3, inf, inf, inf]\n",
            "[None, None, None, None, None, None, 4, inf, inf, inf]\n",
            "[None, None, None, None, None, None, None, 4, 4, inf]\n",
            "[None, None, None, None, None, None, None, None, 5, inf]\n",
            "[None, None, None, None, None, None, None, None, None, 4]\n"
          ]
        }
      ],
      "source": [
        "ans=maximal_matching(input_text)\n",
        "print(input_text)\n",
        "for x in ans:\n",
        "    print(x)"
      ]
    },
    {
      "cell_type": "markdown",
      "metadata": {
        "id": "w7vBXfjM87Ew"
      },
      "source": [
        "### Backtracking\n",
        "Complete the backtracking function below to find the tokenzied words.\n",
        "It should return a list containing a pair of the beginning position and the ending position of each word.\n",
        "In this example, it should return:\n",
        "<br>\n",
        "[(0, 1),(2, 3),(4, 8),(9, 9)]\n",
        "<br>\n",
        "#### Each pair contains the position of each word as follows:\n",
        "(0, 1) ไป\n",
        "<br>\n",
        "(2, 3) หา\n",
        "<br>\n",
        "(4, 8) มเหสี\n",
        "<br>\n",
        "(9, 9) !\n"
      ]
    },
    {
      "cell_type": "code",
      "execution_count": 36,
      "metadata": {
        "id": "SxNFf1IE87Ex"
      },
      "outputs": [],
      "source": [
        "def backtrack(d):\n",
        "    eow = len(d)-1 # End of Word position\n",
        "    word_pos = [] # Word position\n",
        "    ####FILL CODE HERE####\n",
        "    now,idx = myMin(d,eow+1)\n",
        "    i=eow\n",
        "    while(eow>0):\n",
        "        if(d[idx][i]==1):\n",
        "            word_pos.append((0,eow))\n",
        "            break\n",
        "        if(d[idx][i]!=None):\n",
        "            i-=1\n",
        "        else:\n",
        "            word_pos.append((i+1,eow))\n",
        "            eow=i\n",
        "            now,idx = myMin(d,eow+1)\n",
        "    ######################\n",
        "    word_pos.reverse()\n",
        "    return word_pos"
      ]
    },
    {
      "cell_type": "code",
      "execution_count": 37,
      "metadata": {
        "id": "Tc5lXkx__pG3"
      },
      "outputs": [],
      "source": [
        "def cut(c,ranges):\n",
        "    result = []\n",
        "    for a,b in ranges:\n",
        "        result.append(c[a:b+1])\n",
        "    return result"
      ]
    },
    {
      "cell_type": "code",
      "execution_count": 38,
      "metadata": {
        "colab": {
          "base_uri": "https://localhost:8080/",
          "height": 0
        },
        "id": "LugKJ9sD_pG3",
        "outputId": "ac9a3a17-54f1-4326-8614-80652df0ce92"
      },
      "outputs": [
        {
          "name": "stdout",
          "output_type": "stream",
          "text": [
            "[(0, 1), (2, 3), (4, 8), (9, 9)]\n"
          ]
        },
        {
          "data": {
            "text/plain": [
              "['ไป', 'หา', 'มเหสี', '!']"
            ]
          },
          "execution_count": 38,
          "metadata": {},
          "output_type": "execute_result"
        }
      ],
      "source": [
        "ranges = backtrack(ans)\n",
        "print(ranges)\n",
        "cut(input_text,ranges)"
      ]
    },
    {
      "cell_type": "markdown",
      "metadata": {
        "id": "q0MJkKsh87Ex"
      },
      "source": [
        "### Test your maximal matching algorithm on a toy dictionary\n",
        "\n",
        "Expected output:\n",
        "\n",
        "[1, 1, inf, inf, inf, inf, inf, inf, inf, inf] ไ\n",
        "<br>\n",
        "[None, 2, inf, inf, inf, inf, inf, inf, inf, inf] ป\n",
        "<br>\n",
        "[None, None, 2, 2, 2, inf, inf, inf, inf, inf] ห\n",
        "<br>\n",
        "[None, None, None, 3, inf, inf, inf, inf, inf, inf] า\n",
        "<br>\n",
        "[None, None, None, None, 3, inf, inf, inf, 3, inf] ม\n",
        "<br>\n",
        "[None, None, None, None, None, 3, 3, inf, inf, inf] เ\n",
        "<br>\n",
        "[None, None, None, None, None, None, 4, inf, inf, inf] ห\n",
        "<br>\n",
        "[None, None, None, None, None, None, None, 4, 4, inf] ส\n",
        "<br>\n",
        "[None, None, None, None, None, None, None, None, 5, inf] ี\n",
        "<br>\n",
        "[None, None, None, None, None, None, None, None, None, 4] !\n",
        "<br>"
      ]
    },
    {
      "cell_type": "code",
      "execution_count": 39,
      "metadata": {
        "colab": {
          "base_uri": "https://localhost:8080/",
          "height": 0
        },
        "id": "tsmVQIKS87Ey",
        "outputId": "303bfa86-aa07-4f67-b987-7c4b09e9fdc3"
      },
      "outputs": [
        {
          "name": "stdout",
          "output_type": "stream",
          "text": [
            "[1, 1, inf, inf, inf, inf, inf, inf, inf, inf] ไ\n",
            "[None, 2, inf, inf, inf, inf, inf, inf, inf, inf] ป\n",
            "[None, None, 2, 2, 2, inf, inf, inf, inf, inf] ห\n",
            "[None, None, None, 3, inf, inf, inf, inf, inf, inf] า\n",
            "[None, None, None, None, 3, inf, inf, inf, 3, inf] ม\n",
            "[None, None, None, None, None, 3, 3, inf, inf, inf] เ\n",
            "[None, None, None, None, None, None, 4, inf, inf, inf] ห\n",
            "[None, None, None, None, None, None, None, 4, 4, inf] ส\n",
            "[None, None, None, None, None, None, None, None, 5, inf] ี\n",
            "[None, None, None, None, None, None, None, None, None, 4] !\n"
          ]
        }
      ],
      "source": [
        "input_text = \"ไปหามเหสี!\"\n",
        "out = maximal_matching(input_text)\n",
        "for i in range(len(out)):\n",
        "    print(out[i],input_text[i])"
      ]
    },
    {
      "cell_type": "markdown",
      "metadata": {
        "id": "IVhCMM4d87Ey"
      },
      "source": [
        "### Test your backtracking algorithm on a toy dictionary\n",
        "Compare your results with the result from PyThaiNLP `newmm`.\n",
        "\n",
        "Expected output:\n",
        "<br>\n",
        "ไป|หา|มเหสี|!"
      ]
    },
    {
      "cell_type": "code",
      "execution_count": 40,
      "metadata": {
        "colab": {
          "base_uri": "https://localhost:8080/",
          "height": 0
        },
        "id": "6Hurbm1f87Ey",
        "outputId": "d794cc5a-b8b5-4fc6-af3a-f6714f3a81f2"
      },
      "outputs": [
        {
          "name": "stdout",
          "output_type": "stream",
          "text": [
            "ไป|หา|มเหสี|!\n"
          ]
        }
      ],
      "source": [
        "def print_tokenized_text(d, input_text):\n",
        "    tokenized_text=[]\n",
        "    for pos in backtrack(d):\n",
        "        #print(pos)\n",
        "        tokenized_text.append(input_text[pos[0]:pos[1]+1])\n",
        "\n",
        "    print(\"|\".join(tokenized_text))\n",
        "\n",
        "print_tokenized_text(out,input_text)"
      ]
    },
    {
      "cell_type": "markdown",
      "metadata": {
        "id": "1mZ226USPICM"
      },
      "source": [
        "### <font color=blue>Question 1</font>\n",
        "Using your maximal matching code with the toy dictionary, how many “words” did you get when tokenizing this input text.\n",
        "\n",
        "Answer this question in question #1 in MyCourseVille. Also print out the answer in this notebook as well."
      ]
    },
    {
      "cell_type": "code",
      "execution_count": 41,
      "metadata": {
        "id": "KQt8NcwZ_pG6"
      },
      "outputs": [],
      "source": [
        "# thai_vocab = [\"ไ\",\"ป\",\"ห\",\"า\",\"ม\",\"เ\",\"ห\",\"ส\",\"ี\",\"ไป\",\"หา\",\"หาม\",\"เห\",\"สี\",\"มเหสี\",\"!\"]\n",
        "\n",
        "# thai_vocab.append(\"หมา\")\n",
        "# thai_vocab.append(\"มา\")"
      ]
    },
    {
      "cell_type": "code",
      "execution_count": 42,
      "metadata": {
        "colab": {
          "base_uri": "https://localhost:8080/",
          "height": 0
        },
        "id": "C4c6gX4ySfUh",
        "outputId": "3608faac-74c0-49f7-c76f-abdba2acf48f"
      },
      "outputs": [
        {
          "name": "stdout",
          "output_type": "stream",
          "text": [
            "10\n",
            "['ไป', 'หา', 'ห', 'ม', 'า', 'มเหสี', 'ม', 'า', 'หาม', '!']\n"
          ]
        }
      ],
      "source": [
        "input_text = \"ไปหาหมามเหสีมาหาม!\"\n",
        "\n",
        "out = maximal_matching(input_text)\n",
        "q1ans = cut(input_text,backtrack(out))\n",
        "print(len(q1ans))\n",
        "print(q1ans)"
      ]
    },
    {
      "cell_type": "markdown",
      "metadata": {
        "id": "57rP9cTU87Ez"
      },
      "source": [
        "## Part 3) Your Maximal Matching with Real Dictionary"
      ]
    },
    {
      "cell_type": "markdown",
      "metadata": {
        "id": "V306h7AG87Ez"
      },
      "source": [
        "For UNIX-based OS users, the following cell will download a dictionary (it's just a list of thai words). Alternatively, you can download it from this link: https://raw.githubusercontent.com/PyThaiNLP/pythainlp/dev/pythainlp/corpus/words_th.txt"
      ]
    },
    {
      "cell_type": "code",
      "execution_count": 43,
      "metadata": {
        "colab": {
          "base_uri": "https://localhost:8080/",
          "height": 0
        },
        "id": "EFVR9LO187Ez",
        "outputId": "810d9767-ba84-4116-8777-24d986e5d457",
        "scrolled": true
      },
      "outputs": [
        {
          "name": "stderr",
          "output_type": "stream",
          "text": [
            "'wget' is not recognized as an internal or external command,\n",
            "operable program or batch file.\n"
          ]
        }
      ],
      "source": [
        "!wget https://raw.githubusercontent.com/PyThaiNLP/pythainlp/dev/pythainlp/corpus/words_th.txt"
      ]
    },
    {
      "cell_type": "code",
      "execution_count": 44,
      "metadata": {
        "colab": {
          "base_uri": "https://localhost:8080/",
          "height": 0
        },
        "id": "nqIQzVgE87E0",
        "outputId": "0e4155da-929c-4fc4-b78a-08a5ea27d375"
      },
      "outputs": [
        {
          "name": "stdout",
          "output_type": "stream",
          "text": [
            "Vocab size: 62077\n",
            "['ก ข ไม่กระดิกหู', 'ก.', 'ก.ค.', 'ก.ต.', 'ก.ป.ส.', 'ก.พ.', 'ก.พ.ด.', 'ก.ม.', 'ก.ย.', 'ก.ย']\n"
          ]
        }
      ],
      "source": [
        "with open(\"words_th.txt\",encoding='utf-8-sig') as f:\n",
        "    thai_vocab = f.read().splitlines()\n",
        "print(\"Vocab size:\", len(thai_vocab))\n",
        "print(thai_vocab[:10])\n",
        "\n",
        "thai_vocab.extend([\"ๆ\",\"!\"])"
      ]
    },
    {
      "cell_type": "markdown",
      "metadata": {
        "id": "Kpjwzw1w87E0"
      },
      "source": [
        "### Part 3.1) The output of **YOUR** maximal matching algoithm on the new dictionary\n",
        "Expected output:\n",
        "<br>\n",
        "[inf, 1, inf, 1, inf, inf, inf, inf, inf] ไ\n",
        "<br>\n",
        "[None, inf, inf, inf, inf, inf, inf, inf, inf] ป\n",
        "<br>\n",
        "[None, None, inf, 2, 2, inf, inf, inf, inf] ห\n",
        "<br>\n",
        "[None, None, None, inf, inf, inf, inf, inf, inf] า\n",
        "<br>\n",
        "[None, None, None, None, inf, inf, inf, inf, 2] ม\n",
        "<br>\n",
        "[None, None, None, None, None, inf, 3, inf, inf] เ\n",
        "<br>\n",
        "[None, None, None, None, None, None, inf, inf, inf] ห\n",
        "<br>\n",
        "[None, None, None, None, None, None, None, inf, 4] ส\n",
        "<br>\n",
        "[None, None, None, None, None, None, None, None, inf] ี\n",
        "\n",
        "### Expected tokenized text\n",
        "ไปหา|มเหสี\n",
        "\n",
        "_Question: Why are the resulting tokens different?_"
      ]
    },
    {
      "cell_type": "markdown",
      "metadata": {
        "id": "_ohlfkNc_pG9"
      },
      "source": [
        "เพราะ เปลี่ยนdictionay ในdictionaryใหม่ไม่มีคำว่า \"ไป\" มีแต่ \"ไปหา\" \"ไป ๆ มา ๆ\""
      ]
    },
    {
      "cell_type": "code",
      "execution_count": 45,
      "metadata": {
        "colab": {
          "base_uri": "https://localhost:8080/",
          "height": 0
        },
        "id": "lYD5ChIS87E0",
        "outputId": "f882ec84-3ab2-4d1f-f354-0e0873f36930"
      },
      "outputs": [
        {
          "name": "stdout",
          "output_type": "stream",
          "text": [
            "[inf, 1, inf, 1, inf, inf, inf, inf, inf] ไ\n",
            "[None, inf, inf, inf, inf, inf, inf, inf, inf] ป\n",
            "[None, None, inf, 2, 2, inf, inf, inf, inf] ห\n",
            "[None, None, None, inf, inf, inf, inf, inf, inf] า\n",
            "[None, None, None, None, inf, inf, inf, inf, 2] ม\n",
            "[None, None, None, None, None, inf, 3, inf, inf] เ\n",
            "[None, None, None, None, None, None, inf, inf, inf] ห\n",
            "[None, None, None, None, None, None, None, inf, 4] ส\n",
            "[None, None, None, None, None, None, None, None, inf] ี\n",
            "ไปหา|มเหสี\n"
          ]
        }
      ],
      "source": [
        "input_text = \"ไปหามเหสี\"\n",
        "out = maximal_matching(input_text)\n",
        "for i in range(len(out)):\n",
        "    print(out[i],input_text[i])\n",
        "\n",
        "print_tokenized_text(out,input_text)"
      ]
    },
    {
      "cell_type": "markdown",
      "metadata": {
        "id": "ajiIkN-SQKCq"
      },
      "source": [
        "### <font color=blue>Question 2</font>\n",
        "Using your maximal matching algorithm and the actual Thai dictionary, how many “words” did you get when tokenizing this input text.\n",
        "\n",
        "Answer this question in question #2 in MyCourseVille. Also print out the answer in this notebook as well."
      ]
    },
    {
      "cell_type": "code",
      "execution_count": 46,
      "metadata": {
        "colab": {
          "base_uri": "https://localhost:8080/",
          "height": 0
        },
        "id": "G5Kd9_z-QV9D",
        "outputId": "f382047e-dce2-472b-d3e0-40a8e75978d6"
      },
      "outputs": [
        {
          "name": "stdout",
          "output_type": "stream",
          "text": [
            "26\n",
            "['ประเทศ', 'ไทย', 'รวม', 'เลือดเนื้อ', 'ชาติ', 'เชื้อ', 'ไทย', 'เป็น', 'ประชา', 'รัฐ', 'ไผท', 'ของ', 'ไทย', 'ทุก', 'ส่วน', 'อยู่', 'ดำรง', 'คงไว้', 'ได้', 'ทั้งมวล', 'ด้วย', 'ไทย', 'ล้วน', 'หมาย', 'รัก', 'สามัคคี']\n"
          ]
        }
      ],
      "source": [
        "input_text = \"ประเทศไทยรวมเลือดเนื้อชาติเชื้อไทยเป็นประชารัฐไผทของไทยทุกส่วนอยู่ดำรงคงไว้ได้ทั้งมวลด้วยไทยล้วนหมายรักสามัคคี\"\n",
        "\n",
        "out = maximal_matching(input_text)\n",
        "q2ans = cut(input_text,backtrack(out))\n",
        "print(len(q2ans))\n",
        "print(q2ans)"
      ]
    },
    {
      "cell_type": "markdown",
      "metadata": {
        "id": "hqtT1ISUHY_I"
      },
      "source": [
        "### Part 3.2) Use PyThaiNLP `word_tokenize` with custom dictionary\n",
        "\n",
        "Try tokenizing the following text with `word_tokenize` in `newmm` algorithm and default real dictionary."
      ]
    },
    {
      "cell_type": "code",
      "execution_count": 47,
      "metadata": {
        "colab": {
          "base_uri": "https://localhost:8080/",
          "height": 0
        },
        "id": "goQE5gFUL4KO",
        "outputId": "1dde3391-b76f-4e67-fa4b-7488c7840344"
      },
      "outputs": [
        {
          "name": "stdout",
          "output_type": "stream",
          "text": [
            "['นัด', 'กินกัน', 'ตอน', 'ไหน', 'ก็', 'ได้ที่', 'สามย่าน', 'มิตร', 'ทาวน์']\n",
            "9\n",
            "['นัด', 'กินกัน', 'ตอน', 'ไหน', 'ก็', 'ได้ที่', 'สามย่าน', 'มิตร', 'ทาวน์']\n"
          ]
        }
      ],
      "source": [
        "text='นัดกินกันตอนไหนก็ได้ที่สามย่านมิตรทาวน์'\n",
        "\n",
        "####FILL CODE HERE####\n",
        "print(word_tokenize(text,engine=\"newmm\",custom_dict=Trie(thai_vocab)))\n",
        "\n",
        "out = maximal_matching(text)\n",
        "ans = cut(text,backtrack(out))\n",
        "print(len(ans))\n",
        "print(ans)\n",
        "######################"
      ]
    },
    {
      "cell_type": "markdown",
      "metadata": {
        "id": "2SlX5cEBMHPd"
      },
      "source": [
        "Add 'สามย่านมิตรทาวน์' into dictionary and then tokenize again"
      ]
    },
    {
      "cell_type": "code",
      "execution_count": 48,
      "metadata": {
        "colab": {
          "base_uri": "https://localhost:8080/",
          "height": 0
        },
        "id": "b4V9TqFaMPAj",
        "outputId": "6ea15510-d674-4e44-ffd9-747d8508152b"
      },
      "outputs": [
        {
          "name": "stdout",
          "output_type": "stream",
          "text": [
            "['นัด', 'กินกัน', 'ตอน', 'ไหน', 'ก็', 'ได้ที่', 'สามย่านมิตรทาวน์']\n",
            "7\n",
            "['นัด', 'กินกัน', 'ตอน', 'ไหน', 'ก็', 'ได้ที่', 'สามย่านมิตรทาวน์']\n"
          ]
        }
      ],
      "source": [
        "####FILL CODE HERE####\n",
        "thai_vocab.append(\"สามย่านมิตรทาวน์\")\n",
        "\n",
        "print(word_tokenize(text,engine=\"newmm\",custom_dict=Trie(thai_vocab)))\n",
        "\n",
        "out = maximal_matching(text)\n",
        "ans = cut(text,backtrack(out))\n",
        "print(len(ans))\n",
        "print(ans)\n",
        "######################"
      ]
    },
    {
      "cell_type": "markdown",
      "metadata": {
        "id": "y1Lww7VVSmYj"
      },
      "source": [
        "### <font color=blue>Question 3</font>\n",
        "Using the code from part three only, how many “words” did you get when tokenizing this input text **after adding the new vocabs**.\n",
        "\n",
        "Answer this question in question #3 in MyCourseVille. Also print out the answer in this notebook as well."
      ]
    },
    {
      "cell_type": "code",
      "execution_count": 49,
      "metadata": {
        "id": "E_JHjViLajJi"
      },
      "outputs": [],
      "source": [
        "new_vocab = [\"ดิสนีย์ออนไอซ์\", \"ตีกอล์ฟ\", \"ธรรมมะ\"]\n",
        "input_text = \"อ๋อก็ว่าจะไปเรียนแต่งหน้านั่งสมาธิดำน้ำปลูกปะการังทำอาหารนวดสปาปลูกป่าดำนาดูดิสนีย์ออนไอซ์แรลลี่ตีกอล์ฟล่องเรือส่องสัตว์ช้อปปิ้งดูงิ้วดูละครเวทีดูคอนเสิร์ตดินเนอร์ทำขนมจัดดอกไม้เที่ยวตลาดน้ำเรียนถ่ายรูปดูกายกรรมชมเมืองเก่าเข้าสัมมนาทัวร์ธรรมมะเรียนเต้นแล้วก็ร้องเพลง\""
      ]
    },
    {
      "cell_type": "code",
      "execution_count": 50,
      "metadata": {
        "colab": {
          "base_uri": "https://localhost:8080/",
          "height": 0
        },
        "id": "q1tQiQU1_pHN",
        "outputId": "58c331bc-936e-4be4-bfe6-d059d59f3415"
      },
      "outputs": [
        {
          "name": "stdout",
          "output_type": "stream",
          "text": [
            "51\n",
            "['อ๋อ', 'ก็', 'ว่า', 'จะ', 'ไป', 'เรียน', 'แต่งหน้า', 'นั่งสมาธิ', 'ดำน้ำ', 'ปลูก', 'ปะการัง', 'ทำอาหาร', 'นวด', 'สปา', 'ปลูกป่า', 'ดำนา', 'ดู', 'ดิสนีย์ออนไอซ์', 'แรลลี่', 'ตีกอล์ฟ', 'ล่องเรือ', 'ส่องสัตว์', 'ช้อปปิ้ง', 'ดู', 'งิ้ว', 'ดู', 'ละครเวที', 'ดู', 'คอนเสิร์ต', 'ดินเนอร์', 'ทำ', 'ขนม', 'จัด', 'ดอกไม้', 'เที่ยว', 'ตลาดน้ำ', 'เรียน', 'ถ่ายรูป', 'ดู', 'กายกรรม', 'ชม', 'เมือง', 'เก่า', 'เข้า', 'สัมมนา', 'ทัวร์', 'ธรรมมะ', 'เรียน', 'เต้น', 'แล้วก็', 'ร้องเพลง']\n"
          ]
        }
      ],
      "source": [
        "thai_vocab.extend(new_vocab)\n",
        "\n",
        "out = maximal_matching(input_text)\n",
        "q3ans = cut(input_text,backtrack(out))\n",
        "print(len(q3ans))\n",
        "print(q3ans)"
      ]
    },
    {
      "cell_type": "markdown",
      "metadata": {
        "id": "zKZEBhpQTeiA"
      },
      "source": [
        "## Part 4) Use maximal matching on real dataset\n",
        "\n",
        "To complete this exercise, we will use the maximal matching algorithm on NECTEC's BEST corpus.\n",
        "\n",
        "The corpus has a structure of characters with target whether it's a beginning of a word (True/False)."
      ]
    },
    {
      "cell_type": "code",
      "execution_count": 51,
      "metadata": {
        "colab": {
          "base_uri": "https://localhost:8080/",
          "height": 0
        },
        "id": "mdw7k8CzUSK4",
        "outputId": "84cf4823-8a17-48b0-8ab1-97d9e4ec5552"
      },
      "outputs": [],
      "source": [
        "# Download dataset\n",
        "# !gdown \"1EcrlXYUyIEM3aeIJse6nPpiv_UjSKgoU&confirm=t\""
      ]
    },
    {
      "cell_type": "code",
      "execution_count": 52,
      "metadata": {
        "colab": {
          "base_uri": "https://localhost:8080/",
          "height": 0
        },
        "id": "QBdyPTEGUXDW",
        "outputId": "960405b7-742a-4b5b-b343-6b45bf2d6668"
      },
      "outputs": [],
      "source": [
        "# !tar xvf corpora.tar.gz"
      ]
    },
    {
      "cell_type": "code",
      "execution_count": 53,
      "metadata": {
        "id": "ndv-whcXU2_5"
      },
      "outputs": [],
      "source": [
        "import pandas as pd\n",
        "import os"
      ]
    },
    {
      "cell_type": "code",
      "execution_count": 54,
      "metadata": {
        "colab": {
          "base_uri": "https://localhost:8080/",
          "height": 423
        },
        "id": "l6fgMSRYUY5G",
        "outputId": "364b232c-3beb-4a23-ce99-1663d1398111"
      },
      "outputs": [
        {
          "data": {
            "text/html": [
              "<div>\n",
              "<style scoped>\n",
              "    .dataframe tbody tr th:only-of-type {\n",
              "        vertical-align: middle;\n",
              "    }\n",
              "\n",
              "    .dataframe tbody tr th {\n",
              "        vertical-align: top;\n",
              "    }\n",
              "\n",
              "    .dataframe thead th {\n",
              "        text-align: right;\n",
              "    }\n",
              "</style>\n",
              "<table border=\"1\" class=\"dataframe\">\n",
              "  <thead>\n",
              "    <tr style=\"text-align: right;\">\n",
              "      <th></th>\n",
              "      <th>char</th>\n",
              "      <th>target</th>\n",
              "    </tr>\n",
              "  </thead>\n",
              "  <tbody>\n",
              "    <tr>\n",
              "      <th>0</th>\n",
              "      <td>ป</td>\n",
              "      <td>True</td>\n",
              "    </tr>\n",
              "    <tr>\n",
              "      <th>1</th>\n",
              "      <td>ฏ</td>\n",
              "      <td>False</td>\n",
              "    </tr>\n",
              "    <tr>\n",
              "      <th>2</th>\n",
              "      <td>ิ</td>\n",
              "      <td>False</td>\n",
              "    </tr>\n",
              "    <tr>\n",
              "      <th>3</th>\n",
              "      <td>ร</td>\n",
              "      <td>False</td>\n",
              "    </tr>\n",
              "    <tr>\n",
              "      <th>4</th>\n",
              "      <td>ู</td>\n",
              "      <td>False</td>\n",
              "    </tr>\n",
              "    <tr>\n",
              "      <th>5</th>\n",
              "      <td>ป</td>\n",
              "      <td>False</td>\n",
              "    </tr>\n",
              "    <tr>\n",
              "      <th>6</th>\n",
              "      <td>ก</td>\n",
              "      <td>True</td>\n",
              "    </tr>\n",
              "    <tr>\n",
              "      <th>7</th>\n",
              "      <td>า</td>\n",
              "      <td>False</td>\n",
              "    </tr>\n",
              "    <tr>\n",
              "      <th>8</th>\n",
              "      <td>ร</td>\n",
              "      <td>False</td>\n",
              "    </tr>\n",
              "    <tr>\n",
              "      <th>9</th>\n",
              "      <td>ศ</td>\n",
              "      <td>True</td>\n",
              "    </tr>\n",
              "    <tr>\n",
              "      <th>10</th>\n",
              "      <td>ึ</td>\n",
              "      <td>False</td>\n",
              "    </tr>\n",
              "    <tr>\n",
              "      <th>11</th>\n",
              "      <td>ก</td>\n",
              "      <td>False</td>\n",
              "    </tr>\n",
              "    <tr>\n",
              "      <th>12</th>\n",
              "      <td>ษ</td>\n",
              "      <td>False</td>\n",
              "    </tr>\n",
              "    <tr>\n",
              "      <th>13</th>\n",
              "      <td>า</td>\n",
              "      <td>False</td>\n",
              "    </tr>\n",
              "    <tr>\n",
              "      <th>14</th>\n",
              "      <td></td>\n",
              "      <td>True</td>\n",
              "    </tr>\n",
              "    <tr>\n",
              "      <th>15</th>\n",
              "      <td>:</td>\n",
              "      <td>True</td>\n",
              "    </tr>\n",
              "    <tr>\n",
              "      <th>16</th>\n",
              "      <td></td>\n",
              "      <td>True</td>\n",
              "    </tr>\n",
              "    <tr>\n",
              "      <th>17</th>\n",
              "      <td>ม</td>\n",
              "      <td>True</td>\n",
              "    </tr>\n",
              "    <tr>\n",
              "      <th>18</th>\n",
              "      <td>ุ</td>\n",
              "      <td>False</td>\n",
              "    </tr>\n",
              "    <tr>\n",
              "      <th>19</th>\n",
              "      <td>ม</td>\n",
              "      <td>False</td>\n",
              "    </tr>\n",
              "  </tbody>\n",
              "</table>\n",
              "</div>"
            ],
            "text/plain": [
              "   char  target\n",
              "0     ป    True\n",
              "1     ฏ   False\n",
              "2     ิ   False\n",
              "3     ร   False\n",
              "4     ู   False\n",
              "5     ป   False\n",
              "6     ก    True\n",
              "7     า   False\n",
              "8     ร   False\n",
              "9     ศ    True\n",
              "10    ึ   False\n",
              "11    ก   False\n",
              "12    ษ   False\n",
              "13    า   False\n",
              "14         True\n",
              "15    :    True\n",
              "16         True\n",
              "17    ม    True\n",
              "18    ุ   False\n",
              "19    ม   False"
            ]
          },
          "execution_count": 54,
          "metadata": {},
          "output_type": "execute_result"
        }
      ],
      "source": [
        "# Path to the preprocessed data\n",
        "best_processed_path = 'corpora/BEST'\n",
        "option = \"test\"\n",
        "\n",
        "df = []\n",
        "# article types in BEST corpus\n",
        "article_types = ['article', 'encyclopedia', 'news', 'novel']\n",
        "for article_type in article_types:\n",
        "    df.append(pd.read_csv(os.path.join(best_processed_path, option, 'df_best_{}_{}.csv'.format(article_type, option))))\n",
        "df = pd.concat(df)\n",
        "df.head(20)"
      ]
    },
    {
      "cell_type": "code",
      "execution_count": 55,
      "metadata": {
        "colab": {
          "base_uri": "https://localhost:8080/",
          "height": 0
        },
        "id": "Dip-NI94U_YC",
        "outputId": "df3217a8-c27e-48f3-97b2-a8b598a9eb88"
      },
      "outputs": [
        {
          "data": {
            "text/plain": [
              "2271932"
            ]
          },
          "execution_count": 55,
          "metadata": {},
          "output_type": "execute_result"
        }
      ],
      "source": [
        "len(df)"
      ]
    },
    {
      "cell_type": "code",
      "execution_count": 56,
      "metadata": {
        "colab": {
          "base_uri": "https://localhost:8080/",
          "height": 104
        },
        "id": "7bNjYdcJVgov",
        "outputId": "7b2def28-47f3-4185-eff7-4aaf919d23de"
      },
      "outputs": [
        {
          "data": {
            "text/plain": [
              "'ปฏิรูปการศึกษา : มุมมองทางกระบวนทัศน์และบริบทสังคมไทยThe Reformation of Eucation from A Thai Perspectiveกระบวนทัศน์และวิธีคิดแบบแยกส่วน ลดส่วน ได้ทำให้\"การศึกษาเรียนรู้\"ใน หลายทศวรรษที่ผ่านมา กลายเป็นเรื่องของนักวิชาการด้านศึกษาศาสตร์ ครุศาสตร์ หรือเป็นเรื่องของโรงเรียน ครูอาจารย์ กระทรวงศึกษาธิการ ทบวงมหาวิทยาลัยฯ มาอย่างต่อเนื่องยาวนาน (เหมือนกับที่เรื่องสุขภาพเป็นเรื่องของแพทย์และโรงพยาบาล) การจัดการศึกษาภายใต้กระบวนทัศน์และวิธีคิดแบบดังกล่าวของรัฐ ได้ถูกวิพากษ์วิจารณ์และตกเป็นจำเลยจากวิกฤตการณ์ทางสังคมมากมาย อันสะท้อนถึงความล้มเหลวของการจัดการศึกษาเพื่อพัฒนามนุษย์ (ปัญหาศีลธรรมเสื่อมถอย ยาเสพติด การขาดจิตสำนึกทางสังคม ฯลฯ) ซึ่งสังคมร่วมกันสรุปว่า เกิดจากความล้มเหลวของระบบการศึกษาในกระบวนทัศน์แบบแยกส่วน นำมาสู่การปฏิรูปการศึกษาที่กำลังดำเนินการอยู่ในปัจจุบัน ด้วยเป้าหมายเพื่อสร้างการเรียนรู้แบบองค์รวม ที่จะทำให้\"ผู้เรียนเก่ง-ดี-มีความสุข\"คำถามที่ผู้เขียนสนใจในการปฏิรูปการศึกษาที่ดำเนินการในปัจจุบัน คือ๑.การปฏิรูปการศึกษาในปัจจุบันดำเนินการภายใต้กระบวนทัศน์แบบบูรณาการ (องค์รวม)ตามที่'"
            ]
          },
          "execution_count": 56,
          "metadata": {},
          "output_type": "execute_result"
        }
      ],
      "source": [
        "# Some text in this corpus\n",
        "all_text = \"\".join(df['char'].tolist())\n",
        "all_text[:1000]"
      ]
    },
    {
      "cell_type": "markdown",
      "metadata": {
        "id": "18d3EXoPWg7o"
      },
      "source": [
        "### <font color=blue>Question 4</font>\n",
        "Using PyThaiNLP `newmm`, how many words did you get in the BEST corpus (test)? [Runtime is around 7 mins] What are the accuracy, f1, precision, recall scores for each character?\n",
        "\n",
        "Answer this question in question #4 in MyCourseVille. Also print out the answer in this notebook as well.\n",
        "\n",
        "_Question: What main metric should we look at? Why?_"
      ]
    },
    {
      "cell_type": "code",
      "execution_count": 57,
      "metadata": {
        "colab": {
          "base_uri": "https://localhost:8080/",
          "height": 0
        },
        "id": "2RUPPoxLWZr8",
        "outputId": "79259bba-cad0-47d5-af83-fc3a61794287"
      },
      "outputs": [
        {
          "name": "stdout",
          "output_type": "stream",
          "text": [
            "569631\n"
          ]
        }
      ],
      "source": [
        "####FILL CODE HERE####\n",
        "\n",
        "tokens = word_tokenize(all_text, engine=\"newmm\")\n",
        "print(len(tokens))\n",
        "######################"
      ]
    },
    {
      "cell_type": "code",
      "execution_count": 58,
      "metadata": {
        "colab": {
          "base_uri": "https://localhost:8080/",
          "height": 0
        },
        "id": "o40FPwvIXKIQ",
        "outputId": "368c0b5e-45d2-4419-f6b4-c827f5fdb4da"
      },
      "outputs": [
        {
          "data": {
            "text/plain": [
              "[1, 0, 0, 0, 0, 0, 1, 0, 0, 0, 0, 0, 0, 0, 1, 1, 1, 1, 0, 0]"
            ]
          },
          "execution_count": 58,
          "metadata": {},
          "output_type": "execute_result"
        }
      ],
      "source": [
        "def convert_to_character(_tokens):\n",
        "  char_list = [0]*len(\"\".join(_tokens))\n",
        "  char_count = 0\n",
        "  for word in _tokens:\n",
        "    char_list[char_count] = 1\n",
        "    char_count += len(word)\n",
        "  return char_list\n",
        "\n",
        "chars = convert_to_character(tokens)\n",
        "chars[:20]"
      ]
    },
    {
      "cell_type": "code",
      "execution_count": 59,
      "metadata": {
        "colab": {
          "base_uri": "https://localhost:8080/",
          "height": 0
        },
        "id": "5NXWxbiWZHSd",
        "outputId": "16afd98e-8368-439a-f781-45c48298afa7"
      },
      "outputs": [
        {
          "name": "stdout",
          "output_type": "stream",
          "text": [
            "Accuracy :  0.9431373826329309\n",
            "F1 :  0.8925828735253718\n",
            "Precision :  0.9422661336900555\n",
            "Recall :  0.8478765332638281\n"
          ]
        }
      ],
      "source": [
        "from sklearn.metrics import f1_score,precision_score,recall_score,accuracy_score\n",
        "\n",
        "####FILL CODE HERE####\n",
        "label = df['target'].tolist()\n",
        "\n",
        "accuracy = accuracy_score(label, chars)\n",
        "f1 = f1_score(label, chars)\n",
        "precision = precision_score(label, chars)\n",
        "recall = recall_score(label, chars)\n",
        "\n",
        "print(\"Accuracy : \", accuracy)\n",
        "print(\"F1 : \", f1)\n",
        "print(\"Precision : \", precision)\n",
        "print(\"Recall : \", recall)\n",
        "######################"
      ]
    },
    {
      "cell_type": "markdown",
      "metadata": {},
      "source": [
        "ANS : Can choose anything except accuracy, because there are many class 0 instances, and accuracy might be high just from predicting 0.\n"
      ]
    }
  ],
  "metadata": {
    "colab": {
      "gpuType": "T4",
      "provenance": []
    },
    "kernelspec": {
      "display_name": "Python 3",
      "name": "python3"
    },
    "language_info": {
      "codemirror_mode": {
        "name": "ipython",
        "version": 3
      },
      "file_extension": ".py",
      "mimetype": "text/x-python",
      "name": "python",
      "nbconvert_exporter": "python",
      "pygments_lexer": "ipython3",
      "version": "3.12.3"
    }
  },
  "nbformat": 4,
  "nbformat_minor": 0
}
